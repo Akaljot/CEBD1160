{
 "cells": [
  {
   "cell_type": "code",
   "execution_count": 1,
   "metadata": {},
   "outputs": [
    {
     "name": "stdout",
     "output_type": "stream",
     "text": [
      "<class 'int'>\n",
      "<class 'float'>\n",
      "<class 'str'>\n",
      "<class 'str'>\n",
      "<class 'bool'>\n",
      "<class 'bool'>\n",
      "<class 'list'>\n"
     ]
    }
   ],
   "source": [
    " #1. Check what's the type of the following values in the \n",
    "    \n",
    "print (type(1))\n",
    "print (type(3.14))\n",
    "print (type(\"Big Data!\"))\n",
    "print (type('Big Data'))\n",
    "print (type(True))\n",
    "print (type(False))\n",
    "print (type([1,2,\"intruder\",3]))    "
   ]
  },
  {
   "cell_type": "code",
   "execution_count": 3,
   "metadata": {},
   "outputs": [
    {
     "name": "stdout",
     "output_type": "stream",
     "text": [
      "FIZZBUZZ\n",
      "1\n",
      "2\n",
      "fizz\n",
      "4\n",
      "buzz\n",
      "fizz\n",
      "7\n",
      "8\n",
      "fizz\n",
      "buzz\n",
      "11\n",
      "fizz\n",
      "13\n",
      "14\n",
      "FIZZBUZZ\n",
      "16\n",
      "17\n",
      "fizz\n",
      "19\n",
      "buzz\n",
      "fizz\n",
      "22\n",
      "23\n",
      "fizz\n",
      "buzz\n",
      "26\n",
      "fizz\n",
      "28\n",
      "29\n",
      "FIZZBUZZ\n",
      "31\n",
      "32\n",
      "fizz\n",
      "34\n",
      "buzz\n",
      "fizz\n",
      "37\n",
      "38\n",
      "fizz\n",
      "buzz\n",
      "41\n",
      "fizz\n",
      "43\n",
      "44\n",
      "FIZZBUZZ\n",
      "46\n",
      "47\n",
      "fizz\n",
      "49\n",
      "buzz\n",
      "fizz\n",
      "52\n",
      "53\n",
      "fizz\n",
      "buzz\n",
      "56\n",
      "fizz\n",
      "58\n",
      "59\n",
      "FIZZBUZZ\n",
      "61\n",
      "62\n",
      "fizz\n",
      "64\n",
      "buzz\n",
      "fizz\n",
      "67\n",
      "68\n",
      "fizz\n",
      "buzz\n",
      "71\n",
      "fizz\n",
      "73\n",
      "74\n",
      "FIZZBUZZ\n",
      "76\n",
      "77\n",
      "fizz\n",
      "79\n",
      "buzz\n",
      "fizz\n",
      "82\n",
      "83\n",
      "fizz\n",
      "buzz\n",
      "86\n",
      "fizz\n",
      "88\n",
      "89\n",
      "FIZZBUZZ\n",
      "91\n",
      "92\n",
      "fizz\n",
      "94\n",
      "buzz\n",
      "fizz\n",
      "97\n",
      "98\n",
      "fizz\n",
      "buzz\n"
     ]
    }
   ],
   "source": [
    "#2. Write a script that prints the integers from 1 to 100. For multiples of three print \"Fizz\" instead \n",
    "#, and for the multiples of five print \"Buzz\". For numbers which are multiples of both print \"FizzBuzz\". \n",
    "\n",
    "for numb in range(0,101):\n",
    " if numb % 3 == 0 and not numb % 5 == 0:\n",
    "  print (\"fizz\")\n",
    " elif numb % 5 == 0 and not numb % 3 == 0:\n",
    "  print (\"buzz\")\n",
    " elif numb % 3 == 0 and numb % 5 == 0:\n",
    "   print (\"FIZZBUZZ\")\n",
    " else:\n",
    "  print (numb)\n",
    "\n",
    "\n",
    "\n",
    "\n"
   ]
  },
  {
   "cell_type": "code",
   "execution_count": 4,
   "metadata": {},
   "outputs": [
    {
     "name": "stdout",
     "output_type": "stream",
     "text": [
      "233168\n"
     ]
    }
   ],
   "source": [
    "#3. Could you find the maximum or minimum integer value in a list. If we list all the natural \n",
    "#numbers below 10 that are multiples of 3 or 5, we get 3, 5, 6 and 9. The sum of these multiples is 23. Find the sum of all the multiples of 3 or 5 below 1000. \n",
    "\n",
    "total_sum = 0\n",
    "for i in range(1000):\n",
    "   if (i%3 == 0 or i%5 == 0):\n",
    "       total_sum = total_sum + i\n",
    "print (total_sum)\n",
    "\n",
    "\n"
   ]
  },
  {
   "cell_type": "code",
   "execution_count": 5,
   "metadata": {},
   "outputs": [
    {
     "name": "stdout",
     "output_type": "stream",
     "text": [
      "gksfrgks -  cmptr scnc prtl fr gks\n"
     ]
    }
   ],
   "source": [
    "#4. Write a script that takes out all the vowels and response with shortened version the string. \n",
    "#Your script should not be case sensitive. \n",
    "def rem_vowel(string): \n",
    "    vowels = ('a', 'e', 'i', 'o', 'u')  \n",
    "    for x in string.lower(): \n",
    "        if x in vowels: \n",
    "            string = string.replace(x, \"\") \n",
    "         \n",
    "    # Print string without vowels \n",
    "    print(string) \n",
    "\n",
    "  # Driver program \n",
    "string = \"GeeksforGeeks - A Computer Science Portal for Geeks\"\n",
    "string = string.lower()\n",
    "rem_vowel(string)\n",
    "\n"
   ]
  },
  {
   "cell_type": "code",
   "execution_count": 10,
   "metadata": {},
   "outputs": [
    {
     "name": "stdout",
     "output_type": "stream",
     "text": [
      "Count of all characters in name is :\n",
      "{'A': 1}\n",
      "Count of all characters in name is :\n",
      "{'A': 1, 'k': 1}\n",
      "Count of all characters in name is :\n",
      "{'A': 1, 'k': 1, 'a': 1}\n",
      "Count of all characters in name is :\n",
      "{'A': 1, 'k': 1, 'a': 1, 'l': 1}\n",
      "Count of all characters in name is :\n",
      "{'A': 1, 'k': 1, 'a': 1, 'l': 1, 'j': 1}\n",
      "Count of all characters in name is :\n",
      "{'A': 1, 'k': 1, 'a': 1, 'l': 1, 'j': 1, 'o': 1}\n",
      "Count of all characters in name is :\n",
      "{'A': 1, 'k': 1, 'a': 1, 'l': 1, 'j': 1, 'o': 1, 't': 1}\n",
      "Count of all characters in name is :\n",
      "{'A': 1, 'k': 1, 'a': 1, 'l': 1, 'j': 1, 'o': 1, 't': 1, ' ': 1}\n",
      "Count of all characters in name is :\n",
      "{'A': 1, 'k': 1, 'a': 1, 'l': 1, 'j': 1, 'o': 1, 't': 1, ' ': 1, 's': 1}\n",
      "Count of all characters in name is :\n",
      "{'A': 1, 'k': 1, 'a': 1, 'l': 1, 'j': 1, 'o': 1, 't': 1, ' ': 1, 's': 1, 'i': 1}\n",
      "Count of all characters in name is :\n",
      "{'A': 1, 'k': 1, 'a': 1, 'l': 1, 'j': 1, 'o': 1, 't': 1, ' ': 1, 's': 1, 'i': 1, 'n': 1}\n",
      "Count of all characters in name is :\n",
      "{'A': 1, 'k': 1, 'a': 1, 'l': 1, 'j': 1, 'o': 1, 't': 1, ' ': 1, 's': 1, 'i': 1, 'n': 1, 'g': 1}\n",
      "Count of all characters in name is :\n",
      "{'A': 1, 'k': 1, 'a': 1, 'l': 1, 'j': 1, 'o': 1, 't': 1, ' ': 1, 's': 1, 'i': 1, 'n': 1, 'g': 1, 'h': 1}\n",
      "Count of all characters in name is :\n",
      "{'A': 1, 'k': 1, 'a': 1, 'l': 1, 'j': 1, 'o': 1, 't': 1, ' ': 2, 's': 1, 'i': 1, 'n': 1, 'g': 1, 'h': 1}\n",
      "Count of all characters in name is :\n",
      "{'A': 1, 'k': 1, 'a': 1, 'l': 1, 'j': 1, 'o': 1, 't': 1, ' ': 2, 's': 1, 'i': 1, 'n': 1, 'g': 1, 'h': 1, 'G': 1}\n",
      "Count of all characters in name is :\n",
      "{'A': 1, 'k': 1, 'a': 1, 'l': 1, 'j': 1, 'o': 1, 't': 1, ' ': 2, 's': 1, 'i': 1, 'n': 1, 'g': 1, 'h': 1, 'G': 1, 'r': 1}\n",
      "Count of all characters in name is :\n",
      "{'A': 1, 'k': 1, 'a': 1, 'l': 1, 'j': 1, 'o': 1, 't': 1, ' ': 2, 's': 1, 'i': 1, 'n': 1, 'g': 1, 'h': 1, 'G': 1, 'r': 1, 'e': 1}\n",
      "Count of all characters in name is :\n",
      "{'A': 1, 'k': 1, 'a': 1, 'l': 1, 'j': 1, 'o': 1, 't': 1, ' ': 2, 's': 1, 'i': 1, 'n': 1, 'g': 1, 'h': 1, 'G': 1, 'r': 1, 'e': 1, 'w': 1}\n",
      "Count of all characters in name is :\n",
      "{'A': 1, 'k': 1, 'a': 2, 'l': 1, 'j': 1, 'o': 1, 't': 1, ' ': 2, 's': 1, 'i': 1, 'n': 1, 'g': 1, 'h': 1, 'G': 1, 'r': 1, 'e': 1, 'w': 1}\n",
      "Count of all characters in name is :\n",
      "{'A': 1, 'k': 1, 'a': 2, 'l': 2, 'j': 1, 'o': 1, 't': 1, ' ': 2, 's': 1, 'i': 1, 'n': 1, 'g': 1, 'h': 1, 'G': 1, 'r': 1, 'e': 1, 'w': 1}\n"
     ]
    }
   ],
   "source": [
    "#ADVANCE\n",
    "#1. Write a Python program to count the number of characters (character frequency) in a string. \n",
    "#The expected results are two options: [Example: Babak Khosravifar] \n",
    "#○ Sorted by alphabetical order [{‘a’:4, ‘b’:2, ‘f’:1, ‘i’:1, .....}] \n",
    "#○ Sorted by the repetition of characters in descending order [{‘a’:4, ‘b’:2, ‘k’:2, ‘r’:2, .....}]\n",
    "\n",
    "name = \"Akaljot singh Grewal\"\n",
    "\n",
    "character_freq = {}\n",
    "\n",
    "for x in name:\n",
    " if x in character_freq:\n",
    "  character_freq[x] += 1\n",
    " else:\n",
    "  character_freq[x] = 1\n",
    "\n",
    " print(\"Count of all characters in name is :\\n\"+ str(character_freq))\n",
    "\n",
    "\n",
    "\n"
   ]
  },
  {
   "cell_type": "code",
   "execution_count": null,
   "metadata": {},
   "outputs": [],
   "source": []
  }
 ],
 "metadata": {
  "kernelspec": {
   "display_name": "Python 3",
   "language": "python",
   "name": "python3"
  },
  "language_info": {
   "codemirror_mode": {
    "name": "ipython",
    "version": 3
   },
   "file_extension": ".py",
   "mimetype": "text/x-python",
   "name": "python",
   "nbconvert_exporter": "python",
   "pygments_lexer": "ipython3",
   "version": "3.6.5"
  }
 },
 "nbformat": 4,
 "nbformat_minor": 2
}
